{
 "cells": [
  {
   "cell_type": "code",
   "execution_count": 5,
   "metadata": {},
   "outputs": [],
   "source": [
    "import numpy as np \n",
    "import torch\n",
    "import torch.nn as nn\n",
    "import torch.optim as optim\n",
    "from functorch import make_functional_with_buffers, vmap, grad, jacrev\n"
   ]
  },
  {
   "cell_type": "code",
   "execution_count": 54,
   "metadata": {},
   "outputs": [],
   "source": [
    "class Model(nn.Module):\n",
    "    def __init__(self, d=2): \n",
    "        super(Model, self).__init__()\n",
    "        self.d = d \n",
    "        self.layer1 = nn.Linear(d, d+1, bias=False) \n",
    "        # nn.init.zeros_(self.layer1.weight)\n",
    "\n",
    "        self.layer2 = nn.Linear(d+1, 1, bias=False) \n",
    "        # nn.init.zeros_(self.layer2.weight)\n",
    "\n",
    "    def forward(self,x):\n",
    "        x = self.layer1(x) \n",
    "        x = self.layer2(x)\n",
    "        return x"
   ]
  },
  {
   "cell_type": "code",
   "execution_count": 55,
   "metadata": {},
   "outputs": [],
   "source": [
    "device = torch.device('cuda')\n",
    "model = Model().to(device)\n",
    "# optimizer = torch.optim.Adam(model.parameters(), lr= 0.1)\n",
    "data = torch.Tensor(np.random.randn(10, model.d)).to(device)"
   ]
  },
  {
   "cell_type": "code",
   "execution_count": 56,
   "metadata": {},
   "outputs": [],
   "source": [
    "func, params, buffers = make_functional_with_buffers(model)\n",
    "result = vmap(jacrev(func), (None, None, 0))(params, buffers, data)\n",
    "\n",
    "g =  data[0][:,None] @ params[1]"
   ]
  },
  {
   "cell_type": "code",
   "execution_count": 75,
   "metadata": {},
   "outputs": [
    {
     "name": "stdout",
     "output_type": "stream",
     "text": [
      "torch.Size([10, 6])\n",
      "torch.Size([10, 3])\n"
     ]
    }
   ],
   "source": [
    "for w in result:\n",
    "    w1 = torch.reshape(w, (10,-1)) \n",
    "    print(w1.shape)\n",
    "\n",
    "res_mat = torch.cat( [w.reshape(10, -1)  for w in result], dim=1)"
   ]
  },
  {
   "cell_type": "code",
   "execution_count": 76,
   "metadata": {},
   "outputs": [
    {
     "data": {
      "text/plain": [
       "torch.Size([10, 9])"
      ]
     },
     "execution_count": 76,
     "metadata": {},
     "output_type": "execute_result"
    }
   ],
   "source": [
    "res_mat.shape"
   ]
  },
  {
   "cell_type": "code",
   "execution_count": 59,
   "metadata": {},
   "outputs": [
    {
     "data": {
      "text/plain": [
       "tensor([[[ 0.1210,  0.1474],\n",
       "         [ 0.0118,  0.0144],\n",
       "         [-0.0477, -0.0582]]], device='cuda:0', grad_fn=<SelectBackward0>)"
      ]
     },
     "execution_count": 59,
     "metadata": {},
     "output_type": "execute_result"
    }
   ],
   "source": [
    "result[0][0]"
   ]
  },
  {
   "cell_type": "code",
   "execution_count": 60,
   "metadata": {},
   "outputs": [
    {
     "data": {
      "text/plain": [
       "tensor([[ 0.1210,  0.0118, -0.0477],\n",
       "        [ 0.1474,  0.0144, -0.0582]], device='cuda:0', grad_fn=<MmBackward0>)"
      ]
     },
     "execution_count": 60,
     "metadata": {},
     "output_type": "execute_result"
    }
   ],
   "source": [
    "g"
   ]
  },
  {
   "cell_type": "code",
   "execution_count": 61,
   "metadata": {},
   "outputs": [
    {
     "name": "stdout",
     "output_type": "stream",
     "text": [
      "torch.Size([3, 2])\n",
      "torch.Size([1, 3])\n"
     ]
    }
   ],
   "source": [
    "# init_weights = list(model.parameters())\n",
    "for p in model.parameters():\n",
    "    print(p.data.shape)\n"
   ]
  },
  {
   "cell_type": "code",
   "execution_count": 65,
   "metadata": {},
   "outputs": [],
   "source": [
    "x = np.random.rand(2,3) \n",
    "a_hot = np.zeros(4) \n",
    "a_hot[3] = 1 \n",
    "y = np.kron(a_hot, x) # (da,)"
   ]
  },
  {
   "cell_type": "code",
   "execution_count": 66,
   "metadata": {},
   "outputs": [
    {
     "data": {
      "text/plain": [
       "array([[0.10470493, 0.14171866, 0.16990051],\n",
       "       [0.03715569, 0.7648526 , 0.64708154]])"
      ]
     },
     "execution_count": 66,
     "metadata": {},
     "output_type": "execute_result"
    }
   ],
   "source": [
    "x"
   ]
  },
  {
   "cell_type": "code",
   "execution_count": 3,
   "metadata": {},
   "outputs": [
    {
     "name": "stdout",
     "output_type": "stream",
     "text": [
      "(5, 3, 4)\n"
     ]
    }
   ],
   "source": [
    "import numpy as np \n",
    "\n",
    "A = np.random.randn(3,3,4) \n",
    "x = np.random.randn(5,3) \n",
    "y = np.dot(x, A) \n",
    "print(y.shape)"
   ]
  },
  {
   "cell_type": "code",
   "execution_count": null,
   "metadata": {},
   "outputs": [],
   "source": []
  }
 ],
 "metadata": {
  "kernelspec": {
   "display_name": "Python 3.9.12 ('venv')",
   "language": "python",
   "name": "python3"
  },
  "language_info": {
   "codemirror_mode": {
    "name": "ipython",
    "version": 3
   },
   "file_extension": ".py",
   "mimetype": "text/x-python",
   "name": "python",
   "nbconvert_exporter": "python",
   "pygments_lexer": "ipython3",
   "version": "3.9.12"
  },
  "orig_nbformat": 4,
  "vscode": {
   "interpreter": {
    "hash": "cf155ea7873fa76cf4d2709f415475ad30d3f8dd7e6ecb302d8ace816f0c7efb"
   }
  }
 },
 "nbformat": 4,
 "nbformat_minor": 2
}
