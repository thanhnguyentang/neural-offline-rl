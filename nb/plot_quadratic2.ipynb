{
 "cells": [
  {
   "cell_type": "code",
   "execution_count": 1,
   "metadata": {},
   "outputs": [],
   "source": [
    "import numpy as np\n",
    "import matplotlib.pyplot as plt\n",
    "import os \n",
    "import glob "
   ]
  },
  {
   "cell_type": "code",
   "execution_count": 2,
   "metadata": {},
   "outputs": [],
   "source": [
    "def plot_regrets(arrs, labels, data, X): \n",
    "    \"\"\"\n",
    "    in: \n",
    "        arrs: list of regrets [n,T] \n",
    "        labels: list of str \n",
    "    \"\"\"\n",
    "    n = len(arrs)\n",
    "    cmap = plt.cm.get_cmap('jet')\n",
    "    colors = cmap(np.arange(cmap.N))\n",
    "    cinv = cmap.N / (1. * n) \n",
    "    markers=['.','o','v','^','<','>','1','2','3','4','8','s','p','P','*','h','H','+','x','X','D','d','|','_']\n",
    "\n",
    "     #arrs[0].shape[-1]\n",
    "    fig, ax = plt.subplots(figsize=(4, 3), nrows=1, ncols=1)\n",
    "    # t = np.arange(T)\n",
    "    # xs = np.arange(T)\n",
    "    for i, arr, l in zip(range(n), arrs, labels):\n",
    "        # arr = arr[:,:T] # truncate as different algo can have different iteration length \n",
    "        mean = np.mean(arr, axis=0)\n",
    "        std = np.std(arr, axis=0) / np.sqrt(arr.shape[0])\n",
    "        ax.plot(X, mean, label=l, marker=markers[i % len(markers)], markevery=2, color=colors[int((i+0.5)*cinv)]) \n",
    "        ax.fill_between(X, mean + 1.96*std, mean-1.96*std, alpha=0.1, color=colors[int((i+0.5)*cinv)])\n",
    "\n",
    "    ax.set_title('{}'.format(data))\n",
    "    ax.set_xlim([0,X[-1]])\n",
    "    # ax.set_ylim([0,500])\n",
    "    ax.set_xlabel('K') \n",
    "    ax.set_ylabel(r'$\\log$' + '(SubOpt)')\n",
    "    ax.grid('on')\n",
    "    plt.legend()\n",
    "    plt.tight_layout()\n",
    "    plt.show()\n",
    "\n",
    "\n",
    "    return fig "
   ]
  },
  {
   "cell_type": "code",
   "execution_count": 3,
   "metadata": {},
   "outputs": [
    {
     "name": "stdout",
     "output_type": "stream",
     "text": [
      "algo: LinLCB, n: 1\n",
      "(1, 20)\n",
      "algo: NeuralGreedy, n: 5\n",
      "(5, 20)\n",
      "algo: NeuraLCBDiag, n: 5\n",
      "(5, 20)\n",
      "algo: NeuralPER, n: 5\n",
      "(5, 20)\n"
     ]
    },
    {
     "data": {
      "image/png": "[encoded data removed]",
      "text/plain": [
       "<Figure size 288x216 with 1 Axes>"
      ]
     },
     "metadata": {
      "needs_background": "light"
     },
     "output_type": "display_data"
    }
   ],
   "source": [
    "data = 'quadratic2'\n",
    "func_label = r'$r(x,a) = 10(\\theta_a ^T x)$'\n",
    "result_path = os.path.join('/scratch/tnguy258/neuralofflinerl-2/results/mu_eps=0.5', data)\n",
    "# algos = ['NeuralUCB', 'NeuralTS', 'NeuralPR', 'NeuralBoot', 'NeuralGreedy', 'NeuralRandVI', 'NeuralRandEx'] \n",
    "algos = [ 'LinPER', 'LinLCB', 'NeuralGreedy', 'NeuraLCBDiag', 'NeuralPER'] \n",
    "# algo_labels = ['LinLCB', 'LinPER',  'NeuralGreedy', 'NeuraLCB', 'NeuraLCB (Diag)', 'NeuralPER'] \n",
    "algo_labels = algos\n",
    "# T = 500\n",
    "arrs = []\n",
    "upd_times = [] \n",
    "act_select_times = []\n",
    "X = None\n",
    "for algo in algos: \n",
    "    arr = []\n",
    "    upd_time = [] \n",
    "    act_select_time = []\n",
    "    data_path = os.path.join(result_path, algo) \n",
    "    n = len(glob.glob1(data_path,\"*.npz\"))\n",
    " \n",
    "    # n = 1\n",
    "    print('algo: {}, n: {}'.format(algo, n))\n",
    "    for i in range(n): \n",
    "        tmp = np.load(os.path.join(result_path, algo, 'trial={}.npz'.format(i)))\n",
    "        arr.append( np.log(tmp['arr_0'][:,1]) ) \n",
    "\n",
    "        if X is None: \n",
    "            X = tmp['arr_0'][:,0]\n",
    "\n",
    "        \n",
    "\n",
    "        # Only use the first trial to count elapsed time as running multiple trials does not give a reliable measure of time\n",
    "        # After running for each algo to get reget, run each algo one more time with trial=0 only to get a measure of time\n",
    "        # if i == 0: \n",
    "        upd_time.append(tmp['arr_1'][:,1])\n",
    "        act_select_time.append(tmp['arr_2'][:,1]) \n",
    "    \n",
    "    arr = np.array(arr) # (n,T)\n",
    "    print(arr.shape)\n",
    "    upd_time = np.array(upd_time) \n",
    "    act_select_time = np.array(act_select_time)\n",
    "    # print(act_select_time.shape)\n",
    "    arrs.append(arr)\n",
    "    upd_times.append(upd_time)\n",
    "    act_select_times.append(act_select_time) # (n_algo, T)\n",
    "fig = plot_regrets(arrs, algo_labels, func_label, X)\n",
    "fig.savefig(os.path.join(result_path, '{}_regret.png'.format(data)), bbox_inches='tight', dpi=400)\n",
    "\n",
    "# act_select_times = np.array(act_select_times)\n"
   ]
  },
  {
   "cell_type": "code",
   "execution_count": 4,
   "metadata": {},
   "outputs": [
    {
     "name": "stdout",
     "output_type": "stream",
     "text": [
      "(4,)\n"
     ]
    },
    {
     "name": "stderr",
     "output_type": "stream",
     "text": [
      "/tmp/ipykernel_3110555/2975026712.py:1: VisibleDeprecationWarning: Creating an ndarray from ragged nested sequences (which is a list-or-tuple of lists-or-tuples-or ndarrays with different lengths or shapes) is deprecated. If you meant to do this, you must specify 'dtype=object' when creating the ndarray.\n",
      "  x = np.array(act_select_times) # (n, trial, t)\n"
     ]
    }
   ],
   "source": [
    "x = np.array(act_select_times) # (n, trial, t)\n",
    "print(x.shape)"
   ]
  },
  {
   "cell_type": "code",
   "execution_count": 5,
   "metadata": {},
   "outputs": [
    {
     "name": "stderr",
     "output_type": "stream",
     "text": [
      "/tmp/ipykernel_3110555/2852909769.py:1: VisibleDeprecationWarning: Creating an ndarray from ragged nested sequences (which is a list-or-tuple of lists-or-tuples-or ndarrays with different lengths or shapes) is deprecated. If you meant to do this, you must specify 'dtype=object' when creating the ndarray.\n",
      "  act_select_times = np.array(act_select_times) # (n, trial, t)\n"
     ]
    },
    {
     "ename": "AxisError",
     "evalue": "axis 1 is out of bounds for array of dimension 1",
     "output_type": "error",
     "traceback": [
      "\u001b[0;31m---------------------------------------------------------------------------\u001b[0m",
      "\u001b[0;31mAxisError\u001b[0m                                 Traceback (most recent call last)",
      "\u001b[1;32m/scratch/tnguy258/neuralofflinerl-2/nb/plot_quadratic2.ipynb Cell 5\u001b[0m in \u001b[0;36m<cell line: 3>\u001b[0;34m()\u001b[0m\n\u001b[1;32m      <a href='vscode-notebook-cell://ssh-remote%2Bbernese.cs.jhu.edu/scratch/tnguy258/neuralofflinerl-2/nb/plot_quadratic2.ipynb#W4sdnNjb2RlLXJlbW90ZQ%3D%3D?line=0'>1</a>\u001b[0m act_select_times \u001b[39m=\u001b[39m np\u001b[39m.\u001b[39marray(act_select_times) \u001b[39m# (n, trial, t)\u001b[39;00m\n\u001b[0;32m----> <a href='vscode-notebook-cell://ssh-remote%2Bbernese.cs.jhu.edu/scratch/tnguy258/neuralofflinerl-2/nb/plot_quadratic2.ipynb#W4sdnNjb2RlLXJlbW90ZQ%3D%3D?line=2'>3</a>\u001b[0m mu_time \u001b[39m=\u001b[39m np\u001b[39m.\u001b[39;49mmean(act_select_times, axis\u001b[39m=\u001b[39;49m\u001b[39m1\u001b[39;49m)\n\u001b[1;32m      <a href='vscode-notebook-cell://ssh-remote%2Bbernese.cs.jhu.edu/scratch/tnguy258/neuralofflinerl-2/nb/plot_quadratic2.ipynb#W4sdnNjb2RlLXJlbW90ZQ%3D%3D?line=3'>4</a>\u001b[0m std_time \u001b[39m=\u001b[39m np\u001b[39m.\u001b[39mstd(act_select_times, axis\u001b[39m=\u001b[39m\u001b[39m1\u001b[39m) \u001b[39m/\u001b[39m np\u001b[39m.\u001b[39msqrt(act_select_times\u001b[39m.\u001b[39mshape[\u001b[39m1\u001b[39m])\n\u001b[1;32m      <a href='vscode-notebook-cell://ssh-remote%2Bbernese.cs.jhu.edu/scratch/tnguy258/neuralofflinerl-2/nb/plot_quadratic2.ipynb#W4sdnNjb2RlLXJlbW90ZQ%3D%3D?line=6'>7</a>\u001b[0m n \u001b[39m=\u001b[39m \u001b[39m3\u001b[39m\n",
      "File \u001b[0;32m<__array_function__ internals>:5\u001b[0m, in \u001b[0;36mmean\u001b[0;34m(*args, **kwargs)\u001b[0m\n",
      "File \u001b[0;32m/scratch/tnguy258/miniconda3/envs/venv/lib/python3.9/site-packages/numpy/core/fromnumeric.py:3440\u001b[0m, in \u001b[0;36mmean\u001b[0;34m(a, axis, dtype, out, keepdims, where)\u001b[0m\n\u001b[1;32m   3437\u001b[0m     \u001b[39melse\u001b[39;00m:\n\u001b[1;32m   3438\u001b[0m         \u001b[39mreturn\u001b[39;00m mean(axis\u001b[39m=\u001b[39maxis, dtype\u001b[39m=\u001b[39mdtype, out\u001b[39m=\u001b[39mout, \u001b[39m*\u001b[39m\u001b[39m*\u001b[39mkwargs)\n\u001b[0;32m-> 3440\u001b[0m \u001b[39mreturn\u001b[39;00m _methods\u001b[39m.\u001b[39;49m_mean(a, axis\u001b[39m=\u001b[39;49maxis, dtype\u001b[39m=\u001b[39;49mdtype,\n\u001b[1;32m   3441\u001b[0m                       out\u001b[39m=\u001b[39;49mout, \u001b[39m*\u001b[39;49m\u001b[39m*\u001b[39;49mkwargs)\n",
      "File \u001b[0;32m/scratch/tnguy258/miniconda3/envs/venv/lib/python3.9/site-packages/numpy/core/_methods.py:167\u001b[0m, in \u001b[0;36m_mean\u001b[0;34m(a, axis, dtype, out, keepdims, where)\u001b[0m\n\u001b[1;32m    163\u001b[0m arr \u001b[39m=\u001b[39m asanyarray(a)\n\u001b[1;32m    165\u001b[0m is_float16_result \u001b[39m=\u001b[39m \u001b[39mFalse\u001b[39;00m\n\u001b[0;32m--> 167\u001b[0m rcount \u001b[39m=\u001b[39m _count_reduce_items(arr, axis, keepdims\u001b[39m=\u001b[39;49mkeepdims, where\u001b[39m=\u001b[39;49mwhere)\n\u001b[1;32m    168\u001b[0m \u001b[39mif\u001b[39;00m rcount \u001b[39m==\u001b[39m \u001b[39m0\u001b[39m \u001b[39mif\u001b[39;00m where \u001b[39mis\u001b[39;00m \u001b[39mTrue\u001b[39;00m \u001b[39melse\u001b[39;00m umr_any(rcount \u001b[39m==\u001b[39m \u001b[39m0\u001b[39m, axis\u001b[39m=\u001b[39m\u001b[39mNone\u001b[39;00m):\n\u001b[1;32m    169\u001b[0m     warnings\u001b[39m.\u001b[39mwarn(\u001b[39m\"\u001b[39m\u001b[39mMean of empty slice.\u001b[39m\u001b[39m\"\u001b[39m, \u001b[39mRuntimeWarning\u001b[39;00m, stacklevel\u001b[39m=\u001b[39m\u001b[39m2\u001b[39m)\n",
      "File \u001b[0;32m/scratch/tnguy258/miniconda3/envs/venv/lib/python3.9/site-packages/numpy/core/_methods.py:76\u001b[0m, in \u001b[0;36m_count_reduce_items\u001b[0;34m(arr, axis, keepdims, where)\u001b[0m\n\u001b[1;32m     74\u001b[0m     items \u001b[39m=\u001b[39m nt\u001b[39m.\u001b[39mintp(\u001b[39m1\u001b[39m)\n\u001b[1;32m     75\u001b[0m     \u001b[39mfor\u001b[39;00m ax \u001b[39min\u001b[39;00m axis:\n\u001b[0;32m---> 76\u001b[0m         items \u001b[39m*\u001b[39m\u001b[39m=\u001b[39m arr\u001b[39m.\u001b[39mshape[mu\u001b[39m.\u001b[39;49mnormalize_axis_index(ax, arr\u001b[39m.\u001b[39;49mndim)]\n\u001b[1;32m     77\u001b[0m \u001b[39melse\u001b[39;00m:\n\u001b[1;32m     78\u001b[0m     \u001b[39m# TODO: Optimize case when `where` is broadcast along a non-reduction\u001b[39;00m\n\u001b[1;32m     79\u001b[0m     \u001b[39m# axis and full sum is more excessive than needed.\u001b[39;00m\n\u001b[1;32m     80\u001b[0m \n\u001b[1;32m     81\u001b[0m     \u001b[39m# guarded to protect circular imports\u001b[39;00m\n\u001b[1;32m     82\u001b[0m     \u001b[39mfrom\u001b[39;00m \u001b[39mnumpy\u001b[39;00m\u001b[39m.\u001b[39;00m\u001b[39mlib\u001b[39;00m\u001b[39m.\u001b[39;00m\u001b[39mstride_tricks\u001b[39;00m \u001b[39mimport\u001b[39;00m broadcast_to\n",
      "\u001b[0;31mAxisError\u001b[0m: axis 1 is out of bounds for array of dimension 1"
     ]
    }
   ],
   "source": [
    "act_select_times = np.array(act_select_times) # (n, trial, t)\n",
    "\n",
    "mu_time = np.mean(act_select_times, axis=1)\n",
    "std_time = np.std(act_select_times, axis=1) / np.sqrt(act_select_times.shape[1])\n",
    "\n",
    "\n",
    "n = 3\n",
    "cmap = plt.cm.get_cmap('jet')\n",
    "colors = cmap(np.arange(cmap.N))\n",
    "cinv = cmap.N / (1. * n) \n",
    "markers=['.','o','v','^','<','>','1','2','3','4','8','s','p','P','*','h','H','+','x','X','D','d','|','_']\n",
    "\n",
    "fig = plt.figure(figsize=(4,2))\n",
    "for j,i in enumerate([-3,-2,-1]):\n",
    "    plt.plot(X, mu_time[i], label=algo_labels[i],marker=markers[j % len(markers)], markevery=2, color=colors[int((j+0.5)*cinv)])\n",
    "    plt.fill_between(X, mu_time[i] + 1.96 * std_time[i], mu_time[i] - 1.96 * std_time[i], color=colors[int((j+0.5)*cinv)], alpha=0.2)\n",
    "\n",
    "plt.grid('on')\n",
    "plt.xlabel('K') \n",
    "plt.ylabel('Action selection time (s)')\n",
    "\n",
    "plt.legend(loc='upper left')\n",
    "plt.xlim([0,X[-1]])\n",
    "# plt.ylim([-50, mu_time[-3][T] ])\n",
    "# fig.savefig(os.path.join(result_path, '{}_time.png'.format(data)), bbox_inches='tight', dpi=400)"
   ]
  },
  {
   "cell_type": "code",
   "execution_count": null,
   "metadata": {},
   "outputs": [],
   "source": []
  }
 ],
 "metadata": {
  "kernelspec": {
   "display_name": "Python 3.9.12 ('venv')",
   "language": "python",
   "name": "python3"
  },
  "language_info": {
   "codemirror_mode": {
    "name": "ipython",
    "version": 3
   },
   "file_extension": ".py",
   "mimetype": "text/x-python",
   "name": "python",
   "nbconvert_exporter": "python",
   "pygments_lexer": "ipython3",
   "version": "3.9.12"
  },
  "orig_nbformat": 4,
  "vscode": {
   "interpreter": {
    "hash": "cf155ea7873fa76cf4d2709f415475ad30d3f8dd7e6ecb302d8ace816f0c7efb"
   }
  }
 },
 "nbformat": 4,
 "nbformat_minor": 2
}
