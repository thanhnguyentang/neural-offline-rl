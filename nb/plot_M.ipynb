{
 "cells": [
  {
   "cell_type": "code",
   "execution_count": 1,
   "metadata": {},
   "outputs": [],
   "source": [
    "import numpy as np\n",
    "import matplotlib.pyplot as plt\n",
    "import os \n",
    "import glob "
   ]
  },
  {
   "cell_type": "code",
   "execution_count": 26,
   "metadata": {},
   "outputs": [
    {
     "name": "stdout",
     "output_type": "stream",
     "text": [
      "(9, 5)\n"
     ]
    },
    {
     "data": {
      "image/png": "[encoded data removed]",
      "text/plain": [
       "<Figure size 360x216 with 1 Axes>"
      ]
     },
     "metadata": {},
     "output_type": "display_data"
    }
   ],
   "source": [
    "M_list = [1,2,5,10,20,30,50,100,200]\n",
    "n_trials = 5\n",
    "data_all = [] #(M, trial)\n",
    "for M in M_list: \n",
    "    res_path = '/scratch/tnguy258/neuralofflinerl-2/test-M-results/M={}/mu_eps=0.5/quadratic/NeuralPER'.format(M) \n",
    "    data_per_M = []\n",
    "    for trial in range(n_trials):\n",
    "        data = np.load(os.path.join(res_path, 'trial={}.npz'.format(trial)))['arr_0'][-1,1]\n",
    "        data_per_M.append(data) \n",
    "    data_all.append(data_per_M)\n",
    "\n",
    "# data_all = np.log( np.array(data_all) )\n",
    "data_all = np.array(data_all) \n",
    "print(data_all.shape) \n",
    "# print(data_all)\n",
    "\n",
    "mu = np.mean(data_all, axis=1)\n",
    "std = np.std(data_all, axis=1) / np.sqrt(n_trials) \n",
    "\n",
    "fig = plt.figure(figsize=(5,3))\n",
    "plt.style.use('seaborn')\n",
    "plt.plot(M_list, mu, marker='o', color='b')\n",
    "plt.fill_between(M_list, mu + 1.96 * std, mu - 1.96 * std, alpha=0.1, color='b')\n",
    "\n",
    "plt.xlim([0, M_list[-1] + 1])\n",
    "plt.xlabel('M', fontsize=16) \n",
    "plt.ylabel('SubOpt', fontsize=16)\n",
    "\n",
    "fig.savefig('subopt_vs_M.png', bbox_inches='tight', dpi=400)"
   ]
  },
  {
   "cell_type": "code",
   "execution_count": null,
   "metadata": {},
   "outputs": [],
   "source": []
  }
 ],
 "metadata": {
  "kernelspec": {
   "display_name": "Python 3.9.12 ('venv')",
   "language": "python",
   "name": "python3"
  },
  "language_info": {
   "codemirror_mode": {
    "name": "ipython",
    "version": 3
   },
   "file_extension": ".py",
   "mimetype": "text/x-python",
   "name": "python",
   "nbconvert_exporter": "python",
   "pygments_lexer": "ipython3",
   "version": "3.9.12"
  },
  "orig_nbformat": 4,
  "vscode": {
   "interpreter": {
    "hash": "cf155ea7873fa76cf4d2709f415475ad30d3f8dd7e6ecb302d8ace816f0c7efb"
   }
  }
 },
 "nbformat": 4,
 "nbformat_minor": 2
}
