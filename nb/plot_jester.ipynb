{
 "cells": [
  {
   "cell_type": "code",
   "execution_count": 1,
   "metadata": {},
   "outputs": [],
   "source": [
    "import numpy as np\n",
    "import matplotlib.pyplot as plt\n",
    "import os \n",
    "import glob "
   ]
  },
  {
   "cell_type": "code",
   "execution_count": 5,
   "metadata": {},
   "outputs": [],
   "source": [
    "def plot_regrets(arrs, labels, data, T = 1000): \n",
    "    \"\"\"\n",
    "    in: \n",
    "        arrs: list of regrets [n,T] \n",
    "        labels: list of str \n",
    "    \"\"\"\n",
    "    n = len(arrs)\n",
    "    cmap = plt.cm.get_cmap('jet')\n",
    "    colors = cmap(np.arange(cmap.N))\n",
    "    cinv = cmap.N / (1. * n) \n",
    "    markers=['.','o','v','^','<','>','1','2','3','4','8','s','p','P','*','h','H','+','x','X','D','d','|','_']\n",
    "\n",
    "     #arrs[0].shape[-1]\n",
    "    fig, ax = plt.subplots(figsize=(4, 3), nrows=1, ncols=1)\n",
    "    t = np.arange(T)\n",
    "    xs = np.arange(T)\n",
    "    for i, arr, l in zip(range(n), arrs, labels):\n",
    "        arr = arr[:,:T] # truncate as different algo can have different iteration length \n",
    "        mean = np.mean(arr, axis=0)\n",
    "        std = np.std(arr, axis=0) / np.sqrt(arr.shape[0])\n",
    "        ax.plot(xs, mean, label=l, marker=markers[i % len(markers)], markevery=500, color=colors[int((i+0.5)*cinv)]) \n",
    "        ax.fill_between(xs, mean + 1.96*std, mean-1.96*std, alpha=0.1, color=colors[int((i+0.5)*cinv)])\n",
    "\n",
    "    ax.set_title('{}'.format(data))\n",
    "    ax.set_xlim([0,T])\n",
    "    # ax.set_ylim([0,500])\n",
    "    ax.set_xlabel('K') \n",
    "    ax.set_ylabel('Total regret')\n",
    "    ax.grid('on')\n",
    "    plt.legend()\n",
    "    plt.tight_layout()\n",
    "    plt.show()\n",
    "\n",
    "\n",
    "    return fig "
   ]
  },
  {
   "cell_type": "code",
   "execution_count": 6,
   "metadata": {},
   "outputs": [
    {
     "name": "stdout",
     "output_type": "stream",
     "text": [
      "algo: LinLCB, n: 5\n",
      "algo: LinPER, n: 5\n",
      "algo: NeuralPR, n: 5\n"
     ]
    },
    {
     "data": {
      "image/png": "[encoded data removed]",
      "text/plain": [
       "<Figure size 288x216 with 1 Axes>"
      ]
     },
     "metadata": {
      "needs_background": "light"
     },
     "output_type": "display_data"
    }
   ],
   "source": [
    "data = 'jester'\n",
    "func_label = data\n",
    "result_path = os.path.join('/scratch/tnguy258/neuralofflinerl/results', data)\n",
    "# algos = ['NeuralUCB', 'NeuralTS', 'NeuralPR', 'NeuralBoot', 'NeuralGreedy', 'NeuralRandVI', 'NeuralRandEx'] \n",
    "# algos = ['LinLCB', 'LinPER', 'NeuralGreedy',  'NeuraLCB', 'NeuraLCBDiag', 'NeuralPR'] \n",
    "# algo_labels = ['LinLCB', 'LinPER', 'NeuralGreedy',  'NeuraLCB', 'NeuraLCB (Diagonal)', 'NeuralPER'] \n",
    "algos = ['LinLCB', 'LinPER', 'NeuralPR']\n",
    "algo_labels = algos \n",
    "\n",
    "T = 10000\n",
    "arrs = []\n",
    "upd_times = [] \n",
    "act_select_times = []\n",
    "for algo in algos: \n",
    "    arr = []\n",
    "    upd_time = [] \n",
    "    act_select_time = []\n",
    "    data_path = os.path.join(result_path, algo) \n",
    "    n = len(glob.glob1(data_path,\"*.npz\"))\n",
    "    # n = 1\n",
    "    print('algo: {}, n: {}'.format(algo, n))\n",
    "    for i in range(n): \n",
    "        tmp = np.load(os.path.join(result_path, algo, 'trial={}.npz'.format(i)))\n",
    "        arr.append(tmp['arr_0']) \n",
    "\n",
    "        # Only use the first trial to count elapsed time as running multiple trials does not give a reliable measure of time\n",
    "        # After running for each algo to get reget, run each algo one more time with trial=0 only to get a measure of time\n",
    "        if i == 0: \n",
    "            upd_time.append(tmp['arr_1'])\n",
    "            act_select_time.append(tmp['arr_2']) \n",
    "    \n",
    "    arr = np.array(arr) # (n,T)\n",
    "    # print(arr.shape)\n",
    "    upd_time = np.mean(np.array(upd_time), axis=0) \n",
    "    act_select_time = np.mean(np.array(act_select_time), axis=0)\n",
    "    # print(act_select_time.shape)\n",
    "    arrs.append(arr)\n",
    "    upd_times.append(upd_time)\n",
    "    act_select_times.append(act_select_time) # (n_algo, T)\n",
    "fig = plot_regrets(arrs, algo_labels, func_label, T=T)\n",
    "fig.savefig(os.path.join(result_path, '{}_regret.png'.format(data)), bbox_inches='tight', dpi=400)"
   ]
  },
  {
   "cell_type": "code",
   "execution_count": 4,
   "metadata": {},
   "outputs": [
    {
     "ename": "IndexError",
     "evalue": "invalid index to scalar variable.",
     "output_type": "error",
     "traceback": [
      "\u001b[0;31m---------------------------------------------------------------------------\u001b[0m",
      "\u001b[0;31mIndexError\u001b[0m                                Traceback (most recent call last)",
      "\u001b[1;32m/scratch/tnguy258/neuralofflinerl/nb/plot_jester.ipynb Cell 4\u001b[0m in \u001b[0;36m<cell line: 17>\u001b[0;34m()\u001b[0m\n\u001b[1;32m     <a href='vscode-notebook-cell://ssh-remote%2Bbernese.cs.jhu.edu/scratch/tnguy258/neuralofflinerl/nb/plot_jester.ipynb#W3sdnNjb2RlLXJlbW90ZQ%3D%3D?line=14'>15</a>\u001b[0m plt\u001b[39m.\u001b[39mlegend(loc\u001b[39m=\u001b[39m\u001b[39m'\u001b[39m\u001b[39mupper left\u001b[39m\u001b[39m'\u001b[39m)\n\u001b[1;32m     <a href='vscode-notebook-cell://ssh-remote%2Bbernese.cs.jhu.edu/scratch/tnguy258/neuralofflinerl/nb/plot_jester.ipynb#W3sdnNjb2RlLXJlbW90ZQ%3D%3D?line=15'>16</a>\u001b[0m plt\u001b[39m.\u001b[39mxlim([\u001b[39m0\u001b[39m,T])\n\u001b[0;32m---> <a href='vscode-notebook-cell://ssh-remote%2Bbernese.cs.jhu.edu/scratch/tnguy258/neuralofflinerl/nb/plot_jester.ipynb#W3sdnNjb2RlLXJlbW90ZQ%3D%3D?line=16'>17</a>\u001b[0m plt\u001b[39m.\u001b[39mylim([\u001b[39m-\u001b[39m\u001b[39m50\u001b[39m, act_select_times[\u001b[39m-\u001b[39;49m\u001b[39m3\u001b[39;49m][T] ])\n\u001b[1;32m     <a href='vscode-notebook-cell://ssh-remote%2Bbernese.cs.jhu.edu/scratch/tnguy258/neuralofflinerl/nb/plot_jester.ipynb#W3sdnNjb2RlLXJlbW90ZQ%3D%3D?line=17'>18</a>\u001b[0m fig\u001b[39m.\u001b[39msavefig(os\u001b[39m.\u001b[39mpath\u001b[39m.\u001b[39mjoin(result_path, \u001b[39m'\u001b[39m\u001b[39m{}\u001b[39;00m\u001b[39m_time.png\u001b[39m\u001b[39m'\u001b[39m\u001b[39m.\u001b[39mformat(data)), bbox_inches\u001b[39m=\u001b[39m\u001b[39m'\u001b[39m\u001b[39mtight\u001b[39m\u001b[39m'\u001b[39m, dpi\u001b[39m=\u001b[39m\u001b[39m400\u001b[39m)\n",
      "\u001b[0;31mIndexError\u001b[0m: invalid index to scalar variable."
     ]
    },
    {
     "data": {
      "image/png": "[encoded data removed]",
      "text/plain": [
       "<Figure size 288x144 with 1 Axes>"
      ]
     },
     "metadata": {
      "needs_background": "light"
     },
     "output_type": "display_data"
    }
   ],
   "source": [
    "n = 3\n",
    "cmap = plt.cm.get_cmap('jet')\n",
    "colors = cmap(np.arange(cmap.N))\n",
    "cinv = cmap.N / (1. * n) \n",
    "markers=['.','o','v','^','<','>','1','2','3','4','8','s','p','P','*','h','H','+','x','X','D','d','|','_']\n",
    "\n",
    "fig = plt.figure(figsize=(4,2))\n",
    "for j,i in enumerate([-3,-2,-1]):\n",
    "    plt.plot(act_select_times[i], label=algo_labels[i],marker=markers[j % len(markers)], markevery=100, color=colors[int((j+0.5)*cinv)])\n",
    "\n",
    "plt.grid('on')\n",
    "plt.xlabel('K') \n",
    "plt.ylabel('Action selection time (s)')\n",
    "\n",
    "plt.legend(loc='upper left')\n",
    "plt.xlim([0,T])\n",
    "plt.ylim([-50, act_select_times[-3][T] ])\n",
    "fig.savefig(os.path.join(result_path, '{}_time.png'.format(data)), bbox_inches='tight', dpi=400)"
   ]
  },
  {
   "cell_type": "code",
   "execution_count": null,
   "metadata": {},
   "outputs": [],
   "source": []
  }
 ],
 "metadata": {
  "kernelspec": {
   "display_name": "Python 3.9.12 ('venv')",
   "language": "python",
   "name": "python3"
  },
  "language_info": {
   "codemirror_mode": {
    "name": "ipython",
    "version": 3
   },
   "file_extension": ".py",
   "mimetype": "text/x-python",
   "name": "python",
   "nbconvert_exporter": "python",
   "pygments_lexer": "ipython3",
   "version": "3.9.12"
  },
  "orig_nbformat": 4,
  "vscode": {
   "interpreter": {
    "hash": "cf155ea7873fa76cf4d2709f415475ad30d3f8dd7e6ecb302d8ace816f0c7efb"
   }
  }
 },
 "nbformat": 4,
 "nbformat_minor": 2
}
